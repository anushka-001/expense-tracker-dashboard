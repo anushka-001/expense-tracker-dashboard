{
 "cells": [
  {
   "cell_type": "code",
   "execution_count": null,
   "id": "0a13495e",
   "metadata": {},
   "outputs": [
    {
     "ename": "ModuleNotFoundError",
     "evalue": "No module named 'pandas'",
     "output_type": "error",
     "traceback": [
      "\u001b[31m---------------------------------------------------------------------------\u001b[39m",
      "\u001b[31mModuleNotFoundError\u001b[39m                       Traceback (most recent call last)",
      "\u001b[36mCell\u001b[39m\u001b[36m \u001b[39m\u001b[32mIn[1]\u001b[39m\u001b[32m, line 1\u001b[39m\n\u001b[32m----> \u001b[39m\u001b[32m1\u001b[39m \u001b[38;5;28;01mimport\u001b[39;00m\u001b[38;5;250m \u001b[39m\u001b[34;01mpandas\u001b[39;00m\u001b[38;5;250m \u001b[39m\u001b[38;5;28;01mas\u001b[39;00m\u001b[38;5;250m \u001b[39m\u001b[34;01mpd\u001b[39;00m\n\u001b[32m      3\u001b[39m \u001b[38;5;66;03m# 1. Load CSV\u001b[39;00m\n\u001b[32m      4\u001b[39m df = pd.read_csv(\u001b[33m\"\u001b[39m\u001b[33m../data/transactions_sample.csv\u001b[39m\u001b[33m\"\u001b[39m, parse_dates=[\u001b[33m\"\u001b[39m\u001b[33mdate\u001b[39m\u001b[33m\"\u001b[39m])\n",
      "\u001b[31mModuleNotFoundError\u001b[39m: No module named 'pandas'"
     ]
    }
   ],
   "source": [
    "# If you see ModuleNotFoundError, run this cell first to install the libs\n",
    "%pip install pandas matplotlib\n",
    "\n",
    "\n",
    "import pandas as pd\n",
    "\n",
    "# 1. Load CSV\n",
    "df = pd.read_csv(\"../data/transactions_sample.csv\", parse_dates=[\"date\"])\n",
    "\n",
    "# 2. Categorise\n",
    "def categorize(desc):\n",
    "    d = desc.lower()\n",
    "    if \"subscription\" in d:\n",
    "        return \"subscription\"\n",
    "    if any(w in d for w in (\"salary\",\"payroll\",\"credit\")):\n",
    "        return \"income\"\n",
    "    return \"misc\"\n",
    "\n",
    "df[\"category\"] = df[\"description\"].apply(categorize)\n",
    "\n",
    "df.head()\n",
    "\n",
    "\n",
    "\n",
    "\n",
    "import matplotlib.pyplot as plt\n",
    "\n",
    "# 3. Summarise\n",
    "summary = df.groupby(\"category\")[\"amount\"].sum().reset_index()\n",
    "print(summary)\n",
    "\n",
    "# 4. Bar chart\n",
    "plt.figure(figsize=(6,3))\n",
    "plt.bar(summary[\"category\"], summary[\"amount\"])\n",
    "plt.ylabel(\"Total Amount\")\n",
    "plt.title(\"Spend/Income by Category\")\n",
    "plt.show()\n"
   ]
  }
 ],
 "metadata": {
  "kernelspec": {
   "display_name": "Python 3",
   "language": "python",
   "name": "python3"
  },
  "language_info": {
   "codemirror_mode": {
    "name": "ipython",
    "version": 3
   },
   "file_extension": ".py",
   "mimetype": "text/x-python",
   "name": "python",
   "nbconvert_exporter": "python",
   "pygments_lexer": "ipython3",
   "version": "3.11.8"
  }
 },
 "nbformat": 4,
 "nbformat_minor": 5
}
